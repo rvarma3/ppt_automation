{
 "cells": [
  {
   "cell_type": "code",
   "execution_count": 100,
   "metadata": {},
   "outputs": [],
   "source": [
    "import os, os.path\n",
    "import win32com.client\n",
    "import datetime\n",
    "\n"
   ]
  },
  {
   "cell_type": "code",
   "execution_count": 94,
   "metadata": {},
   "outputs": [],
   "source": [
    "os.chdir('C:\\\\Users\\\\s456781\\\\OneDrive - Emirates Group\\\\Documents\\\\My Data Sources\\\\')"
   ]
  },
  {
   "cell_type": "code",
   "execution_count": 96,
   "metadata": {},
   "outputs": [],
   "source": [
    "if os.path.exists(\".\\Skywards CORO Pack.xlsm\"):\n",
    "    excel = win32com.client.Dispatch(\"Excel.Application\")\n",
    "    excel.Visible= True\n",
    "    wb  = excel.Workbooks.Open(os.path.abspath('Skywards CORO Pack.xlsm'))\n",
    "    wb.RefreshAll()\n",
    "    excel.CalculateUntilAsyncQueriesDone()\n",
    "    wb.Save()\n",
    "    excel.Application.Run(\"'Skywards CORO Pack.xlsm'!Module2.exltoppt_v2\") \n",
    "    wb.Close(True)\n",
    "    excel.Application.Quit()\n",
    "del excel\n",
    "del wb"
   ]
  },
  {
   "cell_type": "code",
   "execution_count": 101,
   "metadata": {},
   "outputs": [],
   "source": [
    "os.chdir('C:\\\\Users\\\\s456781\\\\OneDrive - Emirates Group\\\\Documents\\\\Coro Testing')"
   ]
  },
  {
   "cell_type": "code",
   "execution_count": 125,
   "metadata": {},
   "outputs": [],
   "source": [
    "# send the email out\n",
    "\n",
    "\n",
    "outlook = win32com.client.Dispatch('Outlook.Application')\n",
    "\n",
    "\n",
    "ol_msg = outlook.CreateItem(0)\n",
    "\n",
    "ol_msg.Attachments.Add(Source = os.path.abspath(\"{} Skywards Forward Ticketed Report.pdf\".format(datetime.datetime.today().strftime(\"%Y%m%d\"))))\n",
    "ol_msg.To = 'ruchir.varma@emirates.com;tarun.verma@emirates.com;'\n",
    "ol_msg.CC = 'ruchir.varma@emirates.com'\n",
    "ol_msg.Subject = 'This is the CORO Pack for 2021'\n",
    "ol_msg.Body = 'Enclosed is the latest CORO pack for Skywards Commercial'\n",
    "ol_msg.Display()\n",
    "\n",
    "\n",
    "\n",
    "\n",
    "\n"
   ]
  },
  {
   "cell_type": "markdown",
   "metadata": {},
   "source": [
    "### Appendix"
   ]
  },
  {
   "cell_type": "code",
   "execution_count": 19,
   "metadata": {
    "scrolled": true
   },
   "outputs": [],
   "source": [
    "# #if os.path.exists(\"Skywards CORO Pack.xlsm\"):\n",
    "# xl=win32com.client.DispatchEx(\"Excel.Application\")\n",
    "# xl.Workbooks.Open(os.path.abspath(\"testing excel.xlsx\"), Editable = 1)\n",
    "# xl.visible = True\n",
    "#     #xl.Application.Run(\"'Skywards CORO Pack.xlsm'!Module2.exltoppt_v2\")\n",
    "# xl.Application.Save() # if you want to save then uncomment this line and change delete the \", ReadOnly=1\" part from the open function.\n",
    "#     #workbook1.Save() \n",
    "#         # Comment this out if your excel script closes\n",
    "# xl.Application.Quit()\n",
    "# del xl"
   ]
  },
  {
   "cell_type": "code",
   "execution_count": null,
   "metadata": {},
   "outputs": [],
   "source": []
  },
  {
   "cell_type": "code",
   "execution_count": 47,
   "metadata": {},
   "outputs": [],
   "source": [
    "# #excel = win32com.client.Dispatch(\"Excel.Application\")\n",
    "# ppt = win32com.client.Dispatch(\"PowerPoint.Application\")\n",
    "# excel.Visible= True\n",
    "# excel.Workbooks.Open(os.path.abspath('Skywards CORO Pack.xlsm'))\n",
    "# excel.ActiveWorkbook.Saved = True\n",
    "# excel.Application.Run(\"'Skywards CORO Pack.xlsm'!Module2.exltoppt_v2\")  \n",
    "# excel.ActiveWorkbook.Close()\n",
    "# excel.Application.Quit()\n",
    "# ppt.Quit()\n"
   ]
  },
  {
   "cell_type": "code",
   "execution_count": null,
   "metadata": {},
   "outputs": [],
   "source": []
  }
 ],
 "metadata": {
  "kernelspec": {
   "display_name": "Python 3",
   "language": "python",
   "name": "python3"
  },
  "language_info": {
   "codemirror_mode": {
    "name": "ipython",
    "version": 3
   },
   "file_extension": ".py",
   "mimetype": "text/x-python",
   "name": "python",
   "nbconvert_exporter": "python",
   "pygments_lexer": "ipython3",
   "version": "3.8.5"
  }
 },
 "nbformat": 4,
 "nbformat_minor": 4
}
